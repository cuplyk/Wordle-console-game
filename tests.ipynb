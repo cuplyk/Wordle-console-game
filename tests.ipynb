{
 "cells": [
  {
   "cell_type": "code",
   "execution_count": null,
   "id": "816d172e",
   "metadata": {},
   "outputs": [],
   "source": [
    "import io\n",
    "import sys\n",
    "import unittest\n",
    "from unittest.mock import patch\n",
    "from wordle.ipynb import main, get_random_word, show_guess, game_over\n",
    "\n",
    "class GameTestCase(unittest.TestCase):\n",
    "    def test_get_random_word(self):\n",
    "        random_word = get_random_word()\n",
    "        self.assertIsNotNone(random_word)\n",
    "        self.assertIsInstance(random_word, str)\n",
    "\n",
    "    def test_show_guess(self):\n",
    "        guess = \"APPLE\"\n",
    "        word = \"APPLE\"\n",
    "        expected_output = \"Correct letters: A, E, L, P\\nMisplaced letters: \\nWrong letters: \\n\"\n",
    "        \n",
    "        with patch('sys.stdout', new=io.StringIO()) as fake_stdout:\n",
    "            show_guess(guess, word)\n",
    "            self.assertEqual(fake_stdout.getvalue(), expected_output)\n",
    "\n",
    "    def test_game_over(self):\n",
    "        word = \"APPLE\"\n",
    "        expected_output = \"The word was APPLE.\\n\"\n",
    "\n",
    "        with patch('sys.stdout', new=io.StringIO()) as fake_stdout:\n",
    "            game_over(word)\n",
    "            self.assertEqual(fake_stdout.getvalue(), expected_output)\n",
    "\n",
    "    @patch('builtins.input', side_effect=[\"APPLE\"])\n",
    "    def test_main_correct_guess(self, mock_input):\n",
    "        with patch('sys.stdout', new=io.StringIO()) as fake_stdout:\n",
    "            main()\n",
    "            self.assertIn(\"Correct!\", fake_stdout.getvalue())\n",
    "\n",
    "    @patch('builtins.input', side_effect=[\"ORANGE\"])\n",
    "    def test_main_wrong_guess(self, mock_input):\n",
    "        with patch('sys.stdout', new=io.StringIO()) as fake_stdout:\n",
    "            main()\n",
    "            self.assertIn(\"The word was\", fake_stdout.getvalue())\n",
    "\n",
    "if __name__ == '__main__':\n",
    "    unittest.main()\n"
   ]
  }
 ],
 "metadata": {
  "kernelspec": {
   "display_name": "Python 3 (ipykernel)",
   "language": "python",
   "name": "python3"
  },
  "language_info": {
   "codemirror_mode": {
    "name": "ipython",
    "version": 3
   },
   "file_extension": ".py",
   "mimetype": "text/x-python",
   "name": "python",
   "nbconvert_exporter": "python",
   "pygments_lexer": "ipython3",
   "version": "3.9.13"
  }
 },
 "nbformat": 4,
 "nbformat_minor": 5
}
