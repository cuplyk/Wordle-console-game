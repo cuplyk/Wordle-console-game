{
 "cells": [
  {
   "cell_type": "code",
   "execution_count": 9,
   "id": "7b628e3b",
   "metadata": {},
   "outputs": [
    {
     "ename": "ModuleNotFoundError",
     "evalue": "No module named 'wordle'",
     "output_type": "error",
     "traceback": [
      "\u001b[1;31m---------------------------------------------------------------------------\u001b[0m",
      "\u001b[1;31mModuleNotFoundError\u001b[0m                       Traceback (most recent call last)",
      "\u001b[1;32m~\\AppData\\Local\\Temp\\ipykernel_18036\\312399777.py\u001b[0m in \u001b[0;36m<module>\u001b[1;34m\u001b[0m\n\u001b[0;32m      3\u001b[0m \u001b[1;32mimport\u001b[0m \u001b[0munittest\u001b[0m\u001b[1;33m\u001b[0m\u001b[1;33m\u001b[0m\u001b[0m\n\u001b[0;32m      4\u001b[0m \u001b[1;32mfrom\u001b[0m \u001b[0munittest\u001b[0m\u001b[1;33m.\u001b[0m\u001b[0mmock\u001b[0m \u001b[1;32mimport\u001b[0m \u001b[0mpatch\u001b[0m\u001b[1;33m\u001b[0m\u001b[1;33m\u001b[0m\u001b[0m\n\u001b[1;32m----> 5\u001b[1;33m \u001b[1;32mfrom\u001b[0m \u001b[0mwordle\u001b[0m\u001b[1;33m.\u001b[0m\u001b[0mipynb\u001b[0m \u001b[1;32mimport\u001b[0m \u001b[0mmain\u001b[0m\u001b[1;33m,\u001b[0m \u001b[0mget_random_word\u001b[0m\u001b[1;33m,\u001b[0m \u001b[0mshow_guess\u001b[0m\u001b[1;33m,\u001b[0m \u001b[0mgame_over\u001b[0m\u001b[1;33m\u001b[0m\u001b[1;33m\u001b[0m\u001b[0m\n\u001b[0m\u001b[0;32m      6\u001b[0m \u001b[1;33m\u001b[0m\u001b[0m\n\u001b[0;32m      7\u001b[0m \u001b[1;32mclass\u001b[0m \u001b[0mGameTestCase\u001b[0m\u001b[1;33m(\u001b[0m\u001b[0munittest\u001b[0m\u001b[1;33m.\u001b[0m\u001b[0mTestCase\u001b[0m\u001b[1;33m)\u001b[0m\u001b[1;33m:\u001b[0m\u001b[1;33m\u001b[0m\u001b[1;33m\u001b[0m\u001b[0m\n",
      "\u001b[1;31mModuleNotFoundError\u001b[0m: No module named 'wordle'"
     ]
    }
   ],
   "source": [
    "import io\n",
    "import sys\n",
    "import unittest\n",
    "from unittest.mock import patch\n",
    "from wordle.ipynb import main, get_random_word, show_guess, game_over\n",
    "\n",
    "class GameTestCase(unittest.TestCase):\n",
    "    def test_get_random_word(self):\n",
    "        random_word = get_random_word()\n",
    "        self.assertIsNotNone(random_word)\n",
    "        self.assertIsInstance(random_word, str)\n",
    "\n",
    "    def test_show_guess(self):\n",
    "        guess = \"APPLE\"\n",
    "        word = \"APPLE\"\n",
    "        expected_output = \"Correct letters: A, E, L, P\\nMisplaced letters: \\nWrong letters: \\n\"\n",
    "        \n",
    "        with patch('sys.stdout', new=io.StringIO()) as fake_stdout:\n",
    "            show_guess(guess, word)\n",
    "            self.assertEqual(fake_stdout.getvalue(), expected_output)\n",
    "\n",
    "    def test_game_over(self):\n",
    "        word = \"APPLE\"\n",
    "        expected_output = \"The word was APPLE.\\n\"\n",
    "\n",
    "        with patch('sys.stdout', new=io.StringIO()) as fake_stdout:\n",
    "            game_over(word)\n",
    "            self.assertEqual(fake_stdout.getvalue(), expected_output)\n",
    "\n",
    "    @patch('builtins.input', side_effect=[\"APPLE\"])\n",
    "    def test_main_correct_guess(self, mock_input):\n",
    "        with patch('sys.stdout', new=io.StringIO()) as fake_stdout:\n",
    "            main()\n",
    "            self.assertIn(\"Correct!\", fake_stdout.getvalue())\n",
    "\n",
    "    @patch('builtins.input', side_effect=[\"ORANGE\"])\n",
    "    def test_main_wrong_guess(self, mock_input):\n",
    "        with patch('sys.stdout', new=io.StringIO()) as fake_stdout:\n",
    "            main()\n",
    "            self.assertIn(\"The word was\", fake_stdout.getvalue())\n",
    "\n",
    "if __name__ == '__main__':\n",
    "    unittest.main()\n"
   ]
  },
  {
   "cell_type": "code",
   "execution_count": null,
   "id": "f02972a5",
   "metadata": {},
   "outputs": [],
   "source": []
  },
  {
   "cell_type": "code",
   "execution_count": null,
   "id": "933b723e",
   "metadata": {},
   "outputs": [],
   "source": []
  },
  {
   "cell_type": "code",
   "execution_count": null,
   "id": "f3d0a2b7",
   "metadata": {},
   "outputs": [],
   "source": []
  }
 ],
 "metadata": {
  "kernelspec": {
   "display_name": "Python 3 (ipykernel)",
   "language": "python",
   "name": "python3"
  },
  "language_info": {
   "codemirror_mode": {
    "name": "ipython",
    "version": 3
   },
   "file_extension": ".py",
   "mimetype": "text/x-python",
   "name": "python",
   "nbconvert_exporter": "python",
   "pygments_lexer": "ipython3",
   "version": "3.9.13"
  }
 },
 "nbformat": 4,
 "nbformat_minor": 5
}
