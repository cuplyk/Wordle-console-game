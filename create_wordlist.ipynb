{
 "cells": [
  {
   "cell_type": "code",
   "execution_count": 3,
   "id": "ffb0d501",
   "metadata": {},
   "outputs": [
    {
     "data": {
      "text/plain": [
       "73"
      ]
     },
     "execution_count": 3,
     "metadata": {},
     "output_type": "execute_result"
    }
   ],
   "source": [
    "import pathlib\n",
    "import sys\n",
    "from string import ascii_letters\n",
    "\n",
    "# Get the input and output file paths from command-line arguments\n",
    "in_path = pathlib.Path(\"wordle.ipynb\")  # Path to the input file\n",
    "out_path = pathlib.Path(\"wordlist.txt\")  # Path to the output file\n",
    "\n",
    "# Read the input file, filter and sort the words\n",
    "words = sorted(\n",
    "    {\n",
    "        word.lower()\n",
    "        for word in in_path.read_text(encoding=\"utf-8\").split()  # Read the content and split into words\n",
    "        if all(letter in ascii_letters for letter in word)  # Filter words containing only ASCII letters\n",
    "    },\n",
    "    key=lambda word: (len(word), word),  # Sort words by length and then alphabetically\n",
    ")\n",
    "\n",
    "# Write the sorted word list to the output file\n",
    "out_path.write_text(\"\\n\".join(words))\n",
    "\n",
    "# The code reads an input text file, filters out words containing non-ASCII characters,\n",
    "# sorts the remaining words by length and then alphabetically, and saves the sorted word list to an output file.\n"
   ]
  },
  {
   "cell_type": "code",
   "execution_count": null,
   "id": "914b314f",
   "metadata": {},
   "outputs": [],
   "source": []
  }
 ],
 "metadata": {
  "kernelspec": {
   "display_name": "Python 3 (ipykernel)",
   "language": "python",
   "name": "python3"
  },
  "language_info": {
   "codemirror_mode": {
    "name": "ipython",
    "version": 3
   },
   "file_extension": ".py",
   "mimetype": "text/x-python",
   "name": "python",
   "nbconvert_exporter": "python",
   "pygments_lexer": "ipython3",
   "version": "3.9.13"
  }
 },
 "nbformat": 4,
 "nbformat_minor": 5
}
